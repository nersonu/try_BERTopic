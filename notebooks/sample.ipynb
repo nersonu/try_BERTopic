{
 "cells": [
  {
   "cell_type": "code",
   "execution_count": null,
   "metadata": {},
   "outputs": [],
   "source": [
    "from pathlib import Path\n",
    "\n",
    "import pandas as pd\n",
    "from bertopic import BERTopic"
   ]
  },
  {
   "attachments": {},
   "cell_type": "markdown",
   "metadata": {},
   "source": [
    "# データダウンロード\n",
    "[livedoor ニュースコーパス](https://www.rondhuit.com/download.html#ldcc)を利用する。"
   ]
  },
  {
   "cell_type": "code",
   "execution_count": null,
   "metadata": {},
   "outputs": [],
   "source": [
    "# data/\n",
    "data_root_path = Path().resolve().parent.joinpath(\"data\")"
   ]
  },
  {
   "cell_type": "code",
   "execution_count": null,
   "metadata": {},
   "outputs": [],
   "source": [
    "# download data\n",
    "!wget -P $data_root_path https://www.rondhuit.com/download/ldcc-20140209.tar.gz\n",
    "!cd $data_root_path && tar zxvf ldcc-20140209.tar.gz"
   ]
  },
  {
   "cell_type": "code",
   "execution_count": null,
   "metadata": {},
   "outputs": [],
   "source": [
    "# preprocess\n",
    "livedoor_news_data_path = data_root_path.joinpath(\"text\")\n",
    "\n",
    "news_data: list[str] = []\n",
    "for data_path in livedoor_news_data_path.glob(\"**/*.txt\"):\n",
    "    if data_path.name in [\"CHANGES.txt\", \"README.txt\", \"LICENSE.txt\"]:\n",
    "        continue\n",
    "    \n",
    "    with data_path.open(\"r\") as fin:\n",
    "        news_data.append(\"\".join([text.rstrip(\"\\n\") for text in fin.readlines()[3:]]))"
   ]
  },
  {
   "cell_type": "code",
   "execution_count": null,
   "metadata": {},
   "outputs": [],
   "source": [
    "# check data size\n",
    "len(news_data)"
   ]
  },
  {
   "attachments": {},
   "cell_type": "markdown",
   "metadata": {},
   "source": [
    "# BERTopic を使ってみる"
   ]
  },
  {
   "cell_type": "code",
   "execution_count": null,
   "metadata": {},
   "outputs": [],
   "source": [
    "# load model & clustering\n",
    "model = BERTopic(embedding_model=\"paraphrase-multilingual-MiniLM-L12-v2\")  # 多言語モデルで日本語を使う\n",
    "topics, probs = model.fit_transform(news_data)"
   ]
  },
  {
   "cell_type": "code",
   "execution_count": null,
   "metadata": {},
   "outputs": [],
   "source": [
    "# show Intertopic Distance Map\n",
    "model.visualize_topics()"
   ]
  },
  {
   "cell_type": "code",
   "execution_count": null,
   "metadata": {},
   "outputs": [],
   "source": [
    "# show Topic Word Scores\n",
    "model.visualize_barchart()"
   ]
  },
  {
   "attachments": {},
   "cell_type": "markdown",
   "metadata": {},
   "source": [
    "## 結果を見る"
   ]
  },
  {
   "cell_type": "code",
   "execution_count": null,
   "metadata": {},
   "outputs": [],
   "source": [
    "# DataFrame for analysis\n",
    "result_df = pd.DataFrame(\n",
    "    {\n",
    "        \"news_text\": news_data,\n",
    "        \"topic_no\": topics,\n",
    "        \"proba\": probs,\n",
    "    }\n",
    ")\n",
    "result_df.head(10)"
   ]
  },
  {
   "cell_type": "code",
   "execution_count": null,
   "metadata": {},
   "outputs": [],
   "source": [
    "# show topic 0\n",
    "result_df[result_df.topic_no == 0].sort_values(\"proba\", ascending=False).head(10)"
   ]
  },
  {
   "cell_type": "code",
   "execution_count": null,
   "metadata": {},
   "outputs": [],
   "source": [
    "result_df[result_df.topic_no == 2].sort_values(\"proba\", ascending=False).head(10)"
   ]
  },
  {
   "cell_type": "code",
   "execution_count": null,
   "metadata": {},
   "outputs": [],
   "source": [
    "result_df[result_df.topic_no == 3].sort_values(\"proba\", ascending=False).head(10)"
   ]
  },
  {
   "cell_type": "code",
   "execution_count": null,
   "metadata": {},
   "outputs": [],
   "source": [
    "result_df[result_df.topic_no == 4].sort_values(\"proba\", ascending=False).head(10)"
   ]
  },
  {
   "cell_type": "code",
   "execution_count": null,
   "metadata": {},
   "outputs": [],
   "source": []
  }
 ],
 "metadata": {
  "kernelspec": {
   "display_name": "try_bertopic",
   "language": "python",
   "name": "python3"
  },
  "language_info": {
   "codemirror_mode": {
    "name": "ipython",
    "version": 3
   },
   "file_extension": ".py",
   "mimetype": "text/x-python",
   "name": "python",
   "nbconvert_exporter": "python",
   "pygments_lexer": "ipython3",
   "version": "3.10.9"
  },
  "orig_nbformat": 4,
  "vscode": {
   "interpreter": {
    "hash": "0be467a92be2a4807a3c99194d4aeac00e98d66fb5347f3f2dfb37f20d48233f"
   }
  }
 },
 "nbformat": 4,
 "nbformat_minor": 2
}
